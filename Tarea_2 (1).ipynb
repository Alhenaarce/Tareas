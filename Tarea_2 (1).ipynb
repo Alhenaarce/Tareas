{
  "nbformat": 4,
  "nbformat_minor": 0,
  "metadata": {
    "colab": {
      "provenance": []
    },
    "kernelspec": {
      "name": "python3",
      "display_name": "Python 3"
    },
    "language_info": {
      "name": "python"
    }
  },
  "cells": [
    {
      "cell_type": "markdown",
      "source": [
        "#**Tarea 2**\n",
        "\n",
        "_Alhena Arce_\n",
        "\n",
        "##Problema 1\n",
        "Hacer un programa que imprima los números del 1 al 100.\n"
      ],
      "metadata": {
        "id": "B_7ORLPwRKo3"
      }
    },
    {
      "cell_type": "code",
      "source": [
        "# Imprimir los números del 1 al 100\n",
        "for numero in range(1,101):\n",
        "  print(numero)"
      ],
      "metadata": {
        "colab": {
          "base_uri": "https://localhost:8080/"
        },
        "id": "Vxxcv-YmR-uI",
        "outputId": "7505206c-d9e0-4100-8b92-b57a822b359a"
      },
      "execution_count": 3,
      "outputs": [
        {
          "output_type": "stream",
          "name": "stdout",
          "text": [
            "1\n",
            "2\n",
            "3\n",
            "4\n",
            "5\n",
            "6\n",
            "7\n",
            "8\n",
            "9\n",
            "10\n",
            "11\n",
            "12\n",
            "13\n",
            "14\n",
            "15\n",
            "16\n",
            "17\n",
            "18\n",
            "19\n",
            "20\n",
            "21\n",
            "22\n",
            "23\n",
            "24\n",
            "25\n",
            "26\n",
            "27\n",
            "28\n",
            "29\n",
            "30\n",
            "31\n",
            "32\n",
            "33\n",
            "34\n",
            "35\n",
            "36\n",
            "37\n",
            "38\n",
            "39\n",
            "40\n",
            "41\n",
            "42\n",
            "43\n",
            "44\n",
            "45\n",
            "46\n",
            "47\n",
            "48\n",
            "49\n",
            "50\n",
            "51\n",
            "52\n",
            "53\n",
            "54\n",
            "55\n",
            "56\n",
            "57\n",
            "58\n",
            "59\n",
            "60\n",
            "61\n",
            "62\n",
            "63\n",
            "64\n",
            "65\n",
            "66\n",
            "67\n",
            "68\n",
            "69\n",
            "70\n",
            "71\n",
            "72\n",
            "73\n",
            "74\n",
            "75\n",
            "76\n",
            "77\n",
            "78\n",
            "79\n",
            "80\n",
            "81\n",
            "82\n",
            "83\n",
            "84\n",
            "85\n",
            "86\n",
            "87\n",
            "88\n",
            "89\n",
            "90\n",
            "91\n",
            "92\n",
            "93\n",
            "94\n",
            "95\n",
            "96\n",
            "97\n",
            "98\n",
            "99\n",
            "100\n"
          ]
        }
      ]
    },
    {
      "cell_type": "markdown",
      "source": [
        "Empezamos bien, esto lo vimos en clases."
      ],
      "metadata": {
        "id": "Qv-YpCCfe_hw"
      }
    },
    {
      "cell_type": "markdown",
      "source": [
        "##Problema 2\n",
        "Hacer un programa que imprima los números del 1 al 100 que sean divisibles entre 3 (con resto 0)."
      ],
      "metadata": {
        "id": "5dxQ7_5dTEyV"
      }
    },
    {
      "cell_type": "code",
      "source": [
        "# Imprimir los números del 1 al 100 que sean divisibles por 3\n",
        "for numero in range(1,101):\n",
        "  if numero % 3 == 0:\n",
        "    print(numero)"
      ],
      "metadata": {
        "colab": {
          "base_uri": "https://localhost:8080/"
        },
        "id": "v-3QENgqTjOH",
        "outputId": "9a34f3d9-592e-4181-9010-1a0e4da85882"
      },
      "execution_count": 4,
      "outputs": [
        {
          "output_type": "stream",
          "name": "stdout",
          "text": [
            "3\n",
            "6\n",
            "9\n",
            "12\n",
            "15\n",
            "18\n",
            "21\n",
            "24\n",
            "27\n",
            "30\n",
            "33\n",
            "36\n",
            "39\n",
            "42\n",
            "45\n",
            "48\n",
            "51\n",
            "54\n",
            "57\n",
            "60\n",
            "63\n",
            "66\n",
            "69\n",
            "72\n",
            "75\n",
            "78\n",
            "81\n",
            "84\n",
            "87\n",
            "90\n",
            "93\n",
            "96\n",
            "99\n"
          ]
        }
      ]
    },
    {
      "cell_type": "markdown",
      "source": [
        "No tuve mayores problemas con este ejercicio."
      ],
      "metadata": {
        "id": "k1o6zLwee5gK"
      }
    },
    {
      "cell_type": "markdown",
      "source": [
        "##Problema 3\n",
        "Pseudocódigo, Sumador y comparador de dos números. Realiza el algoritmo para un sumador de dos números."
      ],
      "metadata": {
        "id": "YhVI0sv3VGAi"
      }
    },
    {
      "cell_type": "code",
      "source": [
        "# Leer dos números ingresados por el usuario\n",
        "numero1 = 52\n",
        "numero2 = 63\n",
        "\n",
        "# Calcular la suma\n",
        "suma = numero1 + numero2\n",
        "\n",
        "# Comparar la suma con los rangos establecidos\n",
        "if suma < 100:\n",
        "    print(\"menor a 100\")\n",
        "    print(suma)\n",
        "elif 100 < suma < 150:\n",
        "    print(\"mayor a 100 y menor a 150\")\n",
        "    print(suma)\n",
        "else:\n",
        "    print(\"mayor a 150\")"
      ],
      "metadata": {
        "colab": {
          "base_uri": "https://localhost:8080/"
        },
        "id": "Vig1-noua5Z9",
        "outputId": "2e0fd9d4-23bd-453a-e74c-1799f644c94c"
      },
      "execution_count": 10,
      "outputs": [
        {
          "output_type": "stream",
          "name": "stdout",
          "text": [
            "mayor a 100 y menor a 150\n",
            "115\n"
          ]
        }
      ]
    },
    {
      "cell_type": "markdown",
      "source": [
        "Este fue el ejercicio que más me costó hacer aunque debo admitir que causa satisfacción cuando se logra y el programa te dice la respuesta correcta."
      ],
      "metadata": {
        "id": "v777Zv4teskP"
      }
    },
    {
      "cell_type": "markdown",
      "source": [
        "##Problema 4\n",
        "Generar un programa que combine variables, tipos de datos y una condicional en Python (hacer una función que evalúe si el usuario es mayor de edad y si le gusta la programación, que envíe diferentes textos según la respuesta del usuario)."
      ],
      "metadata": {
        "id": "CfWKcv7UcRMT"
      }
    },
    {
      "cell_type": "code",
      "source": [
        "edad = 21\n",
        "gusta_programar = False\n",
        "if edad > 18 and gusta_programar == True:\n",
        "  print(\"Eres mayor de 18 años y te gusta programar\")\n",
        "else:\n",
        "  print(\"Eres mayor de 18 años y no te gusta programar\")"
      ],
      "metadata": {
        "colab": {
          "base_uri": "https://localhost:8080/"
        },
        "id": "QjmlU5eWccnH",
        "outputId": "f681254d-a189-447c-9bff-d97efcd62099"
      },
      "execution_count": 11,
      "outputs": [
        {
          "output_type": "stream",
          "name": "stdout",
          "text": [
            "Eres mayor de 18 años y no te gusta programar\n"
          ]
        }
      ]
    },
    {
      "cell_type": "markdown",
      "source": [
        "Me gustó un poco más hacer este ejercicio porque me gusta que la programación logre identificar mi edad y mis gustos/preferencias."
      ],
      "metadata": {
        "id": "UveAh4qOeTiN"
      }
    }
  ]
}